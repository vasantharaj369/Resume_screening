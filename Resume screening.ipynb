{
 "cells": [
  {
   "cell_type": "code",
   "execution_count": 1,
   "id": "06d514aa",
   "metadata": {},
   "outputs": [],
   "source": [
    "# importing the required libraries\n",
    "\n",
    "import numpy as np\n",
    "import pandas as pd\n",
    "import seaborn as sns\n",
    "import matplotlib.pyplot as plt\n",
    "import re\n",
    "from tqdm import tqdm\n",
    "import nltk\n",
    "from sklearn.tree import DecisionTreeClassifier\n",
    "from sklearn.neighbors import KNeighborsClassifier\n",
    "from sklearn.model_selection import train_test_split\n",
    "from sklearn.linear_model import LogisticRegression\n",
    "from sklearn.ensemble import RandomForestClassifier\n",
    "from sklearn.naive_bayes import GaussianNB, MultinomialNB, BernoulliNB\n",
    "from sklearn.metrics import accuracy_score, confusion_matrix, precision_score, recall_score, f1_score"
   ]
  },
  {
   "cell_type": "code",
   "execution_count": 2,
   "id": "dfb4f2c0",
   "metadata": {},
   "outputs": [
    {
     "data": {
      "text/html": [
       "<div>\n",
       "<style scoped>\n",
       "    .dataframe tbody tr th:only-of-type {\n",
       "        vertical-align: middle;\n",
       "    }\n",
       "\n",
       "    .dataframe tbody tr th {\n",
       "        vertical-align: top;\n",
       "    }\n",
       "\n",
       "    .dataframe thead th {\n",
       "        text-align: right;\n",
       "    }\n",
       "</style>\n",
       "<table border=\"1\" class=\"dataframe\">\n",
       "  <thead>\n",
       "    <tr style=\"text-align: right;\">\n",
       "      <th></th>\n",
       "      <th>Category</th>\n",
       "      <th>Resume</th>\n",
       "    </tr>\n",
       "  </thead>\n",
       "  <tbody>\n",
       "    <tr>\n",
       "      <th>0</th>\n",
       "      <td>Data Science</td>\n",
       "      <td>Skills * Programming Languages: Python (pandas...</td>\n",
       "    </tr>\n",
       "    <tr>\n",
       "      <th>1</th>\n",
       "      <td>Data Science</td>\n",
       "      <td>Education Details \\r\\nMay 2013 to May 2017 B.E...</td>\n",
       "    </tr>\n",
       "    <tr>\n",
       "      <th>2</th>\n",
       "      <td>Data Science</td>\n",
       "      <td>Areas of Interest Deep Learning, Control Syste...</td>\n",
       "    </tr>\n",
       "    <tr>\n",
       "      <th>3</th>\n",
       "      <td>Data Science</td>\n",
       "      <td>Skills â¢ R â¢ Python â¢ SAP HANA â¢ Table...</td>\n",
       "    </tr>\n",
       "    <tr>\n",
       "      <th>4</th>\n",
       "      <td>Data Science</td>\n",
       "      <td>Education Details \\r\\n MCA   YMCAUST,  Faridab...</td>\n",
       "    </tr>\n",
       "  </tbody>\n",
       "</table>\n",
       "</div>"
      ],
      "text/plain": [
       "       Category                                             Resume\n",
       "0  Data Science  Skills * Programming Languages: Python (pandas...\n",
       "1  Data Science  Education Details \\r\\nMay 2013 to May 2017 B.E...\n",
       "2  Data Science  Areas of Interest Deep Learning, Control Syste...\n",
       "3  Data Science  Skills â¢ R â¢ Python â¢ SAP HANA â¢ Table...\n",
       "4  Data Science  Education Details \\r\\n MCA   YMCAUST,  Faridab..."
      ]
     },
     "execution_count": 2,
     "metadata": {},
     "output_type": "execute_result"
    }
   ],
   "source": [
    "# loading the dataset\n",
    "\n",
    "df = pd.read_csv('UpdatedResumeDataSet.csv')\n",
    "df.head()"
   ]
  },
  {
   "cell_type": "code",
   "execution_count": 3,
   "id": "9bdf7ea0",
   "metadata": {},
   "outputs": [
    {
     "data": {
      "text/plain": [
       "(962, 2)"
      ]
     },
     "execution_count": 3,
     "metadata": {},
     "output_type": "execute_result"
    }
   ],
   "source": [
    "# checking the shape\n",
    "\n",
    "df.shape"
   ]
  },
  {
   "cell_type": "code",
   "execution_count": 4,
   "id": "09b6033e",
   "metadata": {},
   "outputs": [
    {
     "data": {
      "text/plain": [
       "Category    0\n",
       "Resume      0\n",
       "dtype: int64"
      ]
     },
     "execution_count": 4,
     "metadata": {},
     "output_type": "execute_result"
    }
   ],
   "source": [
    "# checking for null values\n",
    "\n",
    "df.isnull().sum()"
   ]
  },
  {
   "cell_type": "markdown",
   "id": "e16fbedd",
   "metadata": {},
   "source": [
    "# Analyzing the category column"
   ]
  },
  {
   "cell_type": "code",
   "execution_count": 7,
   "id": "469c4ad1",
   "metadata": {
    "scrolled": false
   },
   "outputs": [
    {
     "data": {
      "text/plain": [
       "['Data Science',\n",
       " 'HR',\n",
       " 'Advocate',\n",
       " 'Arts',\n",
       " 'Web Designing',\n",
       " 'Mechanical Engineer',\n",
       " 'Sales',\n",
       " 'Health and fitness',\n",
       " 'Civil Engineer',\n",
       " 'Java Developer',\n",
       " 'Business Analyst',\n",
       " 'SAP Developer',\n",
       " 'Automation Testing',\n",
       " 'Electrical Engineering',\n",
       " 'Operations Manager',\n",
       " 'Python Developer',\n",
       " 'DevOps Engineer',\n",
       " 'Network Security Engineer',\n",
       " 'PMO',\n",
       " 'Database',\n",
       " 'Hadoop',\n",
       " 'ETL Developer',\n",
       " 'DotNet Developer',\n",
       " 'Blockchain',\n",
       " 'Testing']"
      ]
     },
     "execution_count": 7,
     "metadata": {},
     "output_type": "execute_result"
    }
   ],
   "source": [
    "df['Category'].unique().tolist()"
   ]
  },
  {
   "cell_type": "code",
   "execution_count": 12,
   "id": "d9fd4a9b",
   "metadata": {},
   "outputs": [
    {
     "data": {
      "image/png": "[encoded data removed]",
      "text/plain": [
       "<Figure size 800x500 with 1 Axes>"
      ]
     },
     "metadata": {},
     "output_type": "display_data"
    }
   ],
   "source": [
    "plt.figure(figsize = (8, 5))\n",
    "sns.countplot(data = df, x = 'Category', color = 'lightblue')\n",
    "plt.xticks(rotation = 'vertical')\n",
    "plt.show()"
   ]
  },
  {
   "cell_type": "markdown",
   "id": "0a5fa33b",
   "metadata": {},
   "source": [
    "Since the Category values are in text we are mapping the values to numbers"
   ]
  },
  {
   "cell_type": "code",
   "execution_count": 13,
   "id": "ffbda9ad",
   "metadata": {},
   "outputs": [
    {
     "data": {
      "text/html": [
       "<div>\n",
       "<style scoped>\n",
       "    .dataframe tbody tr th:only-of-type {\n",
       "        vertical-align: middle;\n",
       "    }\n",
       "\n",
       "    .dataframe tbody tr th {\n",
       "        vertical-align: top;\n",
       "    }\n",
       "\n",
       "    .dataframe thead th {\n",
       "        text-align: right;\n",
       "    }\n",
       "</style>\n",
       "<table border=\"1\" class=\"dataframe\">\n",
       "  <thead>\n",
       "    <tr style=\"text-align: right;\">\n",
       "      <th></th>\n",
       "      <th>Category</th>\n",
       "      <th>Resume</th>\n",
       "    </tr>\n",
       "  </thead>\n",
       "  <tbody>\n",
       "    <tr>\n",
       "      <th>0</th>\n",
       "      <td>6</td>\n",
       "      <td>Skills * Programming Languages: Python (pandas...</td>\n",
       "    </tr>\n",
       "    <tr>\n",
       "      <th>1</th>\n",
       "      <td>6</td>\n",
       "      <td>Education Details \\r\\nMay 2013 to May 2017 B.E...</td>\n",
       "    </tr>\n",
       "    <tr>\n",
       "      <th>2</th>\n",
       "      <td>6</td>\n",
       "      <td>Areas of Interest Deep Learning, Control Syste...</td>\n",
       "    </tr>\n",
       "    <tr>\n",
       "      <th>3</th>\n",
       "      <td>6</td>\n",
       "      <td>Skills â¢ R â¢ Python â¢ SAP HANA â¢ Table...</td>\n",
       "    </tr>\n",
       "    <tr>\n",
       "      <th>4</th>\n",
       "      <td>6</td>\n",
       "      <td>Education Details \\r\\n MCA   YMCAUST,  Faridab...</td>\n",
       "    </tr>\n",
       "  </tbody>\n",
       "</table>\n",
       "</div>"
      ],
      "text/plain": [
       "   Category                                             Resume\n",
       "0         6  Skills * Programming Languages: Python (pandas...\n",
       "1         6  Education Details \\r\\nMay 2013 to May 2017 B.E...\n",
       "2         6  Areas of Interest Deep Learning, Control Syste...\n",
       "3         6  Skills â¢ R â¢ Python â¢ SAP HANA â¢ Table...\n",
       "4         6  Education Details \\r\\n MCA   YMCAUST,  Faridab..."
      ]
     },
     "execution_count": 13,
     "metadata": {},
     "output_type": "execute_result"
    }
   ],
   "source": [
    "from sklearn.preprocessing import LabelEncoder\n",
    "label = LabelEncoder()\n",
    "df['Category'] = label.fit_transform(df['Category'])\n",
    "df.head()"
   ]
  },
  {
   "cell_type": "markdown",
   "id": "3f925652",
   "metadata": {},
   "source": [
    "# Data Cleaning"
   ]
  },
  {
   "cell_type": "code",
   "execution_count": 14,
   "id": "548467e9",
   "metadata": {},
   "outputs": [],
   "source": [
    "import re\n",
    "\n",
    "def clean(x):\n",
    "    xxx = x.lower().split()\n",
    "    y = []\n",
    "    for x in xxx:\n",
    "        x = re.sub('http\\S+', '', x)\n",
    "        x = re.sub('.com\\S+', '', x)\n",
    "        x = re.sub('#\\S+', '', x)\n",
    "        x = re.sub('[^a-zA-Z]', ' ', x)\n",
    "        y.append(x.strip())\n",
    "    return (' '.join(y))\n",
    "    \n",
    "    \n",
    "df['clean'] = df['Resume'].apply(lambda x: clean(x))"
   ]
  },
  {
   "cell_type": "code",
   "execution_count": 15,
   "id": "00f1e199",
   "metadata": {
    "scrolled": true
   },
   "outputs": [
    {
     "data": {
      "text/html": [
       "<div>\n",
       "<style scoped>\n",
       "    .dataframe tbody tr th:only-of-type {\n",
       "        vertical-align: middle;\n",
       "    }\n",
       "\n",
       "    .dataframe tbody tr th {\n",
       "        vertical-align: top;\n",
       "    }\n",
       "\n",
       "    .dataframe thead th {\n",
       "        text-align: right;\n",
       "    }\n",
       "</style>\n",
       "<table border=\"1\" class=\"dataframe\">\n",
       "  <thead>\n",
       "    <tr style=\"text-align: right;\">\n",
       "      <th></th>\n",
       "      <th>Category</th>\n",
       "      <th>Resume</th>\n",
       "      <th>clean</th>\n",
       "    </tr>\n",
       "  </thead>\n",
       "  <tbody>\n",
       "    <tr>\n",
       "      <th>0</th>\n",
       "      <td>6</td>\n",
       "      <td>Skills * Programming Languages: Python (pandas...</td>\n",
       "      <td>skills  programming languages python pandas nu...</td>\n",
       "    </tr>\n",
       "    <tr>\n",
       "      <th>1</th>\n",
       "      <td>6</td>\n",
       "      <td>Education Details \\r\\nMay 2013 to May 2017 B.E...</td>\n",
       "      <td>education details may  to may  b e uit rgpv da...</td>\n",
       "    </tr>\n",
       "    <tr>\n",
       "      <th>2</th>\n",
       "      <td>6</td>\n",
       "      <td>Areas of Interest Deep Learning, Control Syste...</td>\n",
       "      <td>areas of interest deep learning control system...</td>\n",
       "    </tr>\n",
       "    <tr>\n",
       "      <th>3</th>\n",
       "      <td>6</td>\n",
       "      <td>Skills â¢ R â¢ Python â¢ SAP HANA â¢ Table...</td>\n",
       "      <td>skills  r  python  sap hana  tableau  sap hana...</td>\n",
       "    </tr>\n",
       "    <tr>\n",
       "      <th>4</th>\n",
       "      <td>6</td>\n",
       "      <td>Education Details \\r\\n MCA   YMCAUST,  Faridab...</td>\n",
       "      <td>education details mca ymcaust faridabad haryan...</td>\n",
       "    </tr>\n",
       "  </tbody>\n",
       "</table>\n",
       "</div>"
      ],
      "text/plain": [
       "   Category                                             Resume  \\\n",
       "0         6  Skills * Programming Languages: Python (pandas...   \n",
       "1         6  Education Details \\r\\nMay 2013 to May 2017 B.E...   \n",
       "2         6  Areas of Interest Deep Learning, Control Syste...   \n",
       "3         6  Skills â¢ R â¢ Python â¢ SAP HANA â¢ Table...   \n",
       "4         6  Education Details \\r\\n MCA   YMCAUST,  Faridab...   \n",
       "\n",
       "                                               clean  \n",
       "0  skills  programming languages python pandas nu...  \n",
       "1  education details may  to may  b e uit rgpv da...  \n",
       "2  areas of interest deep learning control system...  \n",
       "3  skills  r  python  sap hana  tableau  sap hana...  \n",
       "4  education details mca ymcaust faridabad haryan...  "
      ]
     },
     "execution_count": 15,
     "metadata": {},
     "output_type": "execute_result"
    }
   ],
   "source": [
    "df.head()"
   ]
  },
  {
   "cell_type": "markdown",
   "id": "5022f224",
   "metadata": {},
   "source": [
    "# Model Building"
   ]
  },
  {
   "cell_type": "code",
   "execution_count": 17,
   "id": "eb0b3ef0",
   "metadata": {},
   "outputs": [],
   "source": [
    "from sklearn.feature_extraction.text import TfidfVectorizer\n",
    "tf = TfidfVectorizer(stop_words='english')\n",
    "tf.fit(df['clean'])\n",
    "X = tf.transform(df['clean']).toarray()\n",
    "Y = df['Category'].values"
   ]
  },
  {
   "cell_type": "code",
   "execution_count": 20,
   "id": "016df600",
   "metadata": {},
   "outputs": [
    {
     "name": "stdout",
     "output_type": "stream",
     "text": [
      "X_train shape :  (644, 7013)\n",
      "Y_train shape :  (644,)\n",
      "X_test shape :  (318, 7013)\n",
      "Y_test shape :  (318,)\n"
     ]
    }
   ],
   "source": [
    "# spliting the dataset\n",
    "\n",
    "X_train, X_test, Y_train, Y_test = train_test_split(X, Y, test_size=0.33, random_state=0)\n",
    "print('X_train shape : ', X_train.shape)\n",
    "print('Y_train shape : ', Y_train.shape)\n",
    "print('X_test shape : ', X_test.shape)\n",
    "print('Y_test shape : ', Y_test.shape)"
   ]
  },
  {
   "cell_type": "markdown",
   "id": "490bccea",
   "metadata": {},
   "source": [
    "# K Nearest Neighbour"
   ]
  },
  {
   "cell_type": "code",
   "execution_count": 34,
   "id": "3685e77c",
   "metadata": {
    "scrolled": true
   },
   "outputs": [
    {
     "name": "stdout",
     "output_type": "stream",
     "text": [
      "Training data Accuracy score :  0.9922360248447205\n",
      "Testing data Accuracy score  :  0.9905660377358491\n"
     ]
    }
   ],
   "source": [
    "from sklearn.neighbors import KNeighborsClassifier\n",
    "knn = KNeighborsClassifier()\n",
    "knn.fit(X_train, Y_train)\n",
    "\n",
    "train_pre = knn.predict(X_train)\n",
    "print('Training data Accuracy score : ',accuracy_score(train_pre, Y_train))\n",
    "\n",
    "test_pre = knn.predict(X_test)\n",
    "print('Testing data Accuracy score  : ',accuracy_score(test_pre, Y_test))"
   ]
  },
  {
   "cell_type": "markdown",
   "id": "701ecd71",
   "metadata": {},
   "source": [
    "# Random Forest Classifier"
   ]
  },
  {
   "cell_type": "code",
   "execution_count": 38,
   "id": "3c0637d4",
   "metadata": {},
   "outputs": [
    {
     "name": "stdout",
     "output_type": "stream",
     "text": [
      "Training data Accuracy score :  1.0\n",
      "Testing data Accuracy score  :  0.9937106918238994\n"
     ]
    }
   ],
   "source": [
    "rand = RandomForestClassifier()\n",
    "rand.fit(X_train, Y_train)\n",
    "\n",
    "train_pre = rand.predict(X_train)\n",
    "print('Training data Accuracy score : ',accuracy_score(train_pre, Y_train))\n",
    "\n",
    "test_pre = rand.predict(X_test)\n",
    "print('Testing data Accuracy score  : ',accuracy_score(test_pre, Y_test))"
   ]
  },
  {
   "cell_type": "code",
   "execution_count": 39,
   "id": "227eab09",
   "metadata": {},
   "outputs": [],
   "source": [
    "category = { 15: \"Java Developer\", 23: \"Testing\", 8: \"DevOps Engineer\",\n",
    "             20: \"Python Developer\", 24: \"Web Designing\", 12: \"HR\",\n",
    "             13: \"Hadoop\", 3: \"Blockchain\", 10: \"ETL Developer\",\n",
    "             18: \"Operations Manager\", 6: \"Data Science\", 22: \"Sales\",\n",
    "             16: \"Mechanical Engineer\", 1: \"Arts\", 7: \"Database\", \n",
    "             11: \"Electrical Engineering\", 14: \"Health and fitness\", \n",
    "             19: \"PMO\", 4: \"Business Analyst\", 9: \"DotNet Developer\",\n",
    "             2: \"Automation Testing\", 17: \"Network Security Engineer\",\n",
    "             21: \"SAP Developer\", 5: \"Civil Engineer\", 0: \"Advocate\"}\n"
   ]
  },
  {
   "cell_type": "code",
   "execution_count": 45,
   "id": "70311dfc",
   "metadata": {},
   "outputs": [],
   "source": [
    "def resume_checker(resume):\n",
    "    resume = clean(myresume)\n",
    "    resume = tf.transform([resume]).toarray()\n",
    "    pre = knn.predict(resume)\n",
    "    return (category[pre[0]])"
   ]
  },
  {
   "cell_type": "code",
   "execution_count": 47,
   "id": "1e0ec6c1",
   "metadata": {},
   "outputs": [
    {
     "name": "stdout",
     "output_type": "stream",
     "text": [
      "This resume belongs to a :  Java Developer\n"
     ]
    }
   ],
   "source": [
    "myresume = \"\"\"\n",
    "Objective:\n",
    "Java developer with [number] years of experience in designing, developing, and maintaining Java applications. Skilled in Java programming, object-oriented design principles, and software development lifecycle. Seeking a challenging role where I can leverage my expertise to contribute to innovative projects and advance my career in software development.\n",
    "\n",
    "Education:\n",
    "\n",
    "Bachelor of Science in Computer Science\n",
    "[University Name], [Location]\n",
    "Graduated: [Month, Year]\n",
    "Technical Skills:\n",
    "\n",
    "Programming Languages: Java, SQL\n",
    "Java Technologies: Spring Framework, Hibernate, JSP, Servlets\n",
    "Web Development: HTML, CSS, JavaScript\n",
    "Database Systems: MySQL, Oracle\n",
    "Development Tools: Eclipse, IntelliJ IDEA, Maven, Git\n",
    "Operating Systems: Windows, Linux\n",
    "Professional Experience:\n",
    "\n",
    "Java Developer\n",
    "[Company Name], [Location]\n",
    "[Dates of Employment]\n",
    "\n",
    "Designed and developed Java-based web applications using Spring Framework and Hibernate ORM.\n",
    "Implemented RESTful APIs for seamless integration between front-end and back-end systems.\n",
    "Optimized application performance through efficient database design and query optimization techniques.\n",
    "Conducted code reviews and provided constructive feedback to team members to improve code quality.\n",
    "Collaborated with cross-functional teams to analyze requirements, design solutions, and deliver high-quality software products.\n",
    "Software Engineer Intern\n",
    "[Company Name], [Location]\n",
    "[Dates of Employment]\n",
    "\n",
    "Assisted in the development and testing of Java applications under the guidance of senior developers.\n",
    "Participated in agile development methodologies, including sprint planning and daily stand-up meetings.\n",
    "Contributed to the documentation of software requirements, design specifications, and technical manuals.\n",
    "Worked closely with QA team to identify and resolve bugs and issues during testing phase.\n",
    "Projects:\n",
    "\n",
    "[Project Name]: Description of the project, your role, technologies used, and any notable achievements.\n",
    "[Project Name]: Description of the project, your role, technologies used, and any notable achievements.\n",
    "Certifications:\n",
    "\n",
    "Oracle Certified Professional, Java SE Programmer (OCPJP)\n",
    "Spring Framework Certification\n",
    "References:\n",
    "Available upon request.\n",
    "\n",
    "Feel free to customize this template with your specific qualifications, experiences, and achievements to create a personalized resume that highlights your strengths as a Java developer.\"\"\"\n",
    "\n",
    "\n",
    "value = resume_checker(myresume)\n",
    "\n",
    "print('This resume belongs to a : ',value)"
   ]
  },
  {
   "cell_type": "code",
   "execution_count": 50,
   "id": "bcacd932",
   "metadata": {},
   "outputs": [],
   "source": [
    "import pickle\n",
    "pickle.dump(model, open('model.pkl', 'wb'))\n",
    "pickle.dump(tf, open('tf.pkl', 'wb'))"
   ]
  },
  {
   "cell_type": "code",
   "execution_count": null,
   "id": "bd40e337",
   "metadata": {},
   "outputs": [],
   "source": []
  }
 ],
 "metadata": {
  "kernelspec": {
   "display_name": "Python 3 (ipykernel)",
   "language": "python",
   "name": "python3"
  },
  "language_info": {
   "codemirror_mode": {
    "name": "ipython",
    "version": 3
   },
   "file_extension": ".py",
   "mimetype": "text/x-python",
   "name": "python",
   "nbconvert_exporter": "python",
   "pygments_lexer": "ipython3",
   "version": "3.11.5"
  },
  "varInspector": {
   "cols": {
    "lenName": 16,
    "lenType": 16,
    "lenVar": 40
   },
   "kernels_config": {
    "python": {
     "delete_cmd_postfix": "",
     "delete_cmd_prefix": "del ",
     "library": "var_list.py",
     "varRefreshCmd": "print(var_dic_list())"
    },
    "r": {
     "delete_cmd_postfix": ") ",
     "delete_cmd_prefix": "rm(",
     "library": "var_list.r",
     "varRefreshCmd": "cat(var_dic_list()) "
    }
   },
   "types_to_exclude": [
    "module",
    "function",
    "builtin_function_or_method",
    "instance",
    "_Feature"
   ],
   "window_display": false
  }
 },
 "nbformat": 4,
 "nbformat_minor": 5
}
